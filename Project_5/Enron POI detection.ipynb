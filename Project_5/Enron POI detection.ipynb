{
 "cells": [
  {
   "cell_type": "markdown",
   "metadata": {},
   "source": [
    "# Background of the dataset\n",
    "\n",
    "Enron Corporation was an American energy company, marketing electricity and natural gas and also provided risk management services to curstomers. It was a new-economy company, which was ranked as \"most innovative company\" several times in a row. Enron had 21000 employees in more than 40 countries.\n",
    "\n",
    "However, it became infamous for the \"enron scandal\" in 2001 when it was reveales that their earnings had been overstated by several hundred million dollars. They had been able to hide and manipulate offical accounts over years.\n",
    "Shortly before the collapse, many top Enron executives began to sell large amounts of stock. The prices dropped from `$85.00` to `$0.30`. More than 20000 people lost their jobs and shareholders lost ten billions of dollars.\n",
    "\n",
    "One (and probably the only) positive outcome is the release of the Enron email corpus by the Federal Energy Regulatory Commission. They decided to publish it on the internet to serve the public’s interest in the investigations.\n",
    "The Enron dataset contains about 50.000 emails written by 158 employes of the Enron corporation. It is unique as it is the only publicly available collection of real emails, which means that it shows how real people write real emails and, not as other datasets, contains only randomly generated texts.\n",
    "\n",
    "The goal of the project is to use a machine learning algorithm to predict the person of interest (POI) of the fraud."
   ]
  },
  {
   "cell_type": "code",
   "execution_count": 38,
   "metadata": {
    "collapsed": false
   },
   "outputs": [],
   "source": [
    "import sys\n",
    "import pickle\n",
    "sys.path.append(\"../tools/\")\n",
    "\n",
    "from feature_format import featureFormat, targetFeatureSplit\n",
    "from tester import dump_classifier_and_data, test_classifier\n",
    "from matplotlib import pyplot as plt\n",
    "import pandas as pd\n",
    "import numpy as np\n",
    "\n",
    "import warnings\n",
    "warnings.filterwarnings('ignore')"
   ]
  },
  {
   "cell_type": "code",
   "execution_count": 39,
   "metadata": {
    "collapsed": false
   },
   "outputs": [],
   "source": [
    "### Task 1: Select what features you'll use.\n",
    "### features_list is a list of strings, each of which is a feature name.\n",
    "### The first feature must be \"poi\".\n",
    "features_list = ['poi','salary', 'deferral_payments', 'total_payments',\n",
    "                'loan_advances', 'bonus', 'restricted_stock_deferred',\n",
    "                'deferred_income', 'total_stock_value', 'expenses',\n",
    "                'exercised_stock_options', 'other', 'long_term_incentive',\n",
    "                'restricted_stock', 'director_fees', 'shared_receipt_with_poi',\n",
    "                'to_messages', 'from_poi_to_this_person', 'from_messages',\n",
    "                'from_this_person_to_poi']\n",
    "                \n",
    "financial_features = ['salary', 'deferral_payments', 'total_payments',\n",
    "                'loan_advances', 'bonus', 'restricted_stock_deferred',\n",
    "                'deferred_income', 'total_stock_value', 'expenses',\n",
    "                'exercised_stock_options', 'other', 'long_term_incentive',\n",
    "                'restricted_stock', 'director_fees']\n",
    "\n",
    "email_features = ['to_messages', 'shared_receipt_with_poi', \n",
    "                  'from_messages', 'from_this_person_to_poi', \n",
    "                  'from_poi_to_this_person']\n"
   ]
  },
  {
   "cell_type": "markdown",
   "metadata": {
    "collapsed": true
   },
   "source": [
    "### Data overview"
   ]
  },
  {
   "cell_type": "code",
   "execution_count": 40,
   "metadata": {
    "collapsed": false,
    "scrolled": true
   },
   "outputs": [
    {
     "name": "stdout",
     "output_type": "stream",
     "text": [
      "<class 'pandas.core.frame.DataFrame'>\n",
      "Index: 146 entries, ALLEN PHILLIP K to YEAP SOON\n",
      "Data columns (total 21 columns):\n",
      "salary                       95 non-null float64\n",
      "to_messages                  86 non-null float64\n",
      "deferral_payments            39 non-null float64\n",
      "total_payments               125 non-null float64\n",
      "exercised_stock_options      102 non-null float64\n",
      "bonus                        82 non-null float64\n",
      "restricted_stock             110 non-null float64\n",
      "shared_receipt_with_poi      86 non-null float64\n",
      "restricted_stock_deferred    18 non-null float64\n",
      "total_stock_value            126 non-null float64\n",
      "expenses                     95 non-null float64\n",
      "loan_advances                4 non-null float64\n",
      "from_messages                86 non-null float64\n",
      "other                        93 non-null float64\n",
      "from_this_person_to_poi      86 non-null float64\n",
      "poi                          146 non-null float64\n",
      "director_fees                17 non-null float64\n",
      "deferred_income              49 non-null float64\n",
      "long_term_incentive          66 non-null float64\n",
      "email_address                146 non-null object\n",
      "from_poi_to_this_person      86 non-null float64\n",
      "dtypes: float64(20), object(1)\n",
      "memory usage: 25.1+ KB\n"
     ]
    }
   ],
   "source": [
    "with open(\"final_project_dataset.pkl\", \"r\") as data_file:\n",
    "    data_dict = pickle.load(data_file)\n",
    "\n",
    "enron_df = pd.DataFrame.from_dict(data_dict,orient='index',dtype=float)\n",
    "enron_df.info()"
   ]
  },
  {
   "cell_type": "markdown",
   "metadata": {},
   "source": [
    "There are currently a lot of NaNs in the data. They were entered just as \"NaN\", so I am replacing them using numpy."
   ]
  },
  {
   "cell_type": "code",
   "execution_count": 41,
   "metadata": {
    "collapsed": false
   },
   "outputs": [],
   "source": [
    "enron_df = enron_df.replace('NaN',np.nan)"
   ]
  },
  {
   "cell_type": "markdown",
   "metadata": {},
   "source": [
    "### Other characteristics \n",
    "* Total number of people: 146\n",
    "* POI: 18\n",
    "* Number of features: 20"
   ]
  },
  {
   "cell_type": "markdown",
   "metadata": {},
   "source": [
    "# Removal of outliers\n",
    "\n",
    "## Plot of bonus and total payments\n",
    "\n",
    "Both features 'bonus' and 'total payments' obviously have very high maximum values. I will plot them, so I get a better impression of how the features are distributed.\n"
   ]
  },
  {
   "cell_type": "code",
   "execution_count": 42,
   "metadata": {
    "collapsed": false,
    "scrolled": false
   },
   "outputs": [
    {
     "data": {
      "image/png": "[encoded data removed]",
      "text/plain": [
       "<matplotlib.figure.Figure at 0x10aae9150>"
      ]
     },
     "metadata": {},
     "output_type": "display_data"
    }
   ],
   "source": [
    "plt.scatter(enron_df[enron_df['bonus'] > 0].bonus, enron_df[enron_df['bonus'] > 0].total_payments)\n",
    "plt.show()"
   ]
  },
  {
   "cell_type": "markdown",
   "metadata": {},
   "source": [
    "There is one extreme outlier, which is easy to recognize as the \"Total\" row. It will be removed in the next step."
   ]
  },
  {
   "cell_type": "markdown",
   "metadata": {},
   "source": [
    "## Removal and replacement of data\n",
    "\n",
    "I removed the following rows and columns:\n",
    "\n",
    "1. LOCKHART EUGENE E has only NaN entries.\n",
    "2. THE TRAVEL AGENCY IN THE PARK and TOTAL are no real persons.\n",
    "3. The column 'email_address' does not provide any helpful information, so it was removed.\n",
    "\n",
    "\n",
    "Furthermore, there are several financial features with NaN values. There are basically two ways to handle them:\n",
    "1. Replace them with 0 if we assume that NaN means that the reason why the value is missing is that there were no payments.\n",
    "2. Replace them with the mean or median of the other rows if we assume that NaN means that we are missing data.\n",
    "\n",
    "As we can see in enron61702insiderpay.pdf, missing values for financial features are indeed 0s, so I decided to go with approach 1 here. For the email-related data, I will use the median.\n",
    "\n",
    "Furthermore, I will do a log transformation for the financial features. As we have several values equal to 0, I use a log1p tranformation. log1p outputs the natural logarithm of 1 plus the input value."
   ]
  },
  {
   "cell_type": "code",
   "execution_count": 43,
   "metadata": {
    "collapsed": false
   },
   "outputs": [],
   "source": [
    "enron_df = enron_df.drop(\"LOCKHART EUGENE E\", 0)\n",
    "enron_df = enron_df.drop(\"THE TRAVEL AGENCY IN THE PARK\", 0)\n",
    "enron_df = enron_df.drop(\"TOTAL\", 0)\n",
    "enron_df = enron_df.drop('email_address', 1)\n",
    "\n",
    "enron_df[email_features] = enron_df[email_features].fillna(enron_df[email_features].median())\n",
    "enron_df[financial_features] = enron_df[financial_features].fillna(0)\n",
    "\n",
    "for f in financial_features:\n",
    "    enron_df[f] = np.log1p(abs(enron_df[f]))"
   ]
  },
  {
   "cell_type": "markdown",
   "metadata": {},
   "source": [
    "I will creater another plot of the features 'bonus' and 'total payments' to visualize the effect of the replaced outliers."
   ]
  },
  {
   "cell_type": "code",
   "execution_count": 44,
   "metadata": {
    "collapsed": false,
    "scrolled": true
   },
   "outputs": [
    {
     "data": {
      "image/png": "[encoded data removed]",
      "text/plain": [
       "<matplotlib.figure.Figure at 0x10ec9ded0>"
      ]
     },
     "metadata": {},
     "output_type": "display_data"
    }
   ],
   "source": [
    "plt.scatter(enron_df[enron_df['bonus'] > 0].bonus, enron_df[enron_df['bonus'] > 0].total_payments)\n",
    "plt.show()"
   ]
  },
  {
   "cell_type": "code",
   "execution_count": 45,
   "metadata": {
    "collapsed": false
   },
   "outputs": [
    {
     "name": "stdout",
     "output_type": "stream",
     "text": [
      "('Maxmium bonus: ', 'LAVORATO JOHN J')\n",
      "('Maximum total payments: ', 'LAY KENNETH L')\n"
     ]
    }
   ],
   "source": [
    "print(\"Maxmium bonus: \", enron_df['bonus'].idxmax())\n",
    "print(\"Maximum total payments: \", enron_df['total_payments'].idxmax())"
   ]
  },
  {
   "cell_type": "markdown",
   "metadata": {},
   "source": [
    "There are still two entries which have a very high amount of bonus or total payments. These are John Lavorato and Kenneth Lay. As these are real persons, this is probably correct and therefore might have an important impact on my results. From my research about the Enron scandal I can also remember that Kenneth Lay played an important roles as the Enron CEO."
   ]
  },
  {
   "cell_type": "code",
   "execution_count": 46,
   "metadata": {
    "collapsed": true
   },
   "outputs": [],
   "source": [
    "enron_df[financial_features] = enron_df[financial_features].fillna(0)\n",
    "enron_df = enron_df.fillna(enron_df.median().to_dict())"
   ]
  },
  {
   "cell_type": "code",
   "execution_count": 47,
   "metadata": {
    "collapsed": true
   },
   "outputs": [],
   "source": [
    "for f in financial_features:\n",
    "    enron_df[f] = np.log1p(abs(enron_df[f]))"
   ]
  },
  {
   "cell_type": "markdown",
   "metadata": {},
   "source": [
    "## Create new features\n",
    "\n",
    "In this section, I will create a new feature. I decided to add three features:\n",
    "1. Ratio mails from POIs / total from mails\n",
    "2. Ratio mails to POIs / total to mails\n",
    "3. Ratio from + to mails to POI / total from + to mails\n",
    "\n",
    "These new features might give additional information as they represent the ratio between emails sent to and from POIs and the total number of sent/received emails.\n",
    "Unfortunately, it will later be shown that the new features do not help to improve the overall result."
   ]
  },
  {
   "cell_type": "code",
   "execution_count": 48,
   "metadata": {
    "collapsed": false
   },
   "outputs": [],
   "source": [
    "def from_poi_ratio(row):\n",
    "    from_poi = row['from_poi_to_this_person']\n",
    "    from_all = row['from_messages']\n",
    "    \n",
    "    n = 0\n",
    "    \n",
    "    if from_all > 0:\n",
    "        n = from_poi / from_all\n",
    "        \n",
    "    return n\n",
    "    \n",
    "def to_poi_ratio(row):\n",
    "    to_poi = row['from_this_person_to_poi']\n",
    "    to_all = row['to_messages']\n",
    "    \n",
    "    n = 0\n",
    "    \n",
    "    if to_all > 0:\n",
    "        n = to_poi / to_all\n",
    "        \n",
    "    return n\n",
    "\n",
    "\n",
    "def poi_email_ratio(row):\n",
    "    to_poi = row['from_this_person_to_poi']\n",
    "    from_poi = row['from_poi_to_this_person']\n",
    "    to_all = row['to_messages']\n",
    "    from_all = row['from_messages']\n",
    "    \n",
    "    n = 0\n",
    "    \n",
    "    if (to_poi > 0 or to_all > 0):\n",
    "        n = (to_poi + from_poi) / (to_all + from_all)\n",
    "    \n",
    "    return n\n",
    "\n",
    "\n",
    "enron_df[\"poi_email_ratio\"] = enron_df.apply(lambda row: poi_email_ratio(row), axis=1)\n",
    "enron_df[\"to_poi_ratio\"] = enron_df.apply(lambda row: to_poi_ratio(row), axis=1)\n",
    "enron_df[\"from_poi_ratio\"] = enron_df.apply(lambda row: from_poi_ratio(row), axis=1)\n",
    "\n",
    "features_list.extend([\"poi_email_ratio\", \"to_poi_ratio\", \"from_poi_ratio\"])"
   ]
  },
  {
   "cell_type": "markdown",
   "metadata": {},
   "source": [
    "#### Converting back to dictionary\n"
   ]
  },
  {
   "cell_type": "code",
   "execution_count": 12,
   "metadata": {
    "collapsed": true
   },
   "outputs": [],
   "source": [
    "my_dataset = enron_df.T.to_dict()\n",
    "\n",
    "### Extract features and labels from dataset for local testing\n",
    "data = featureFormat(my_dataset, features_list, sort_keys = True)\n",
    "labels, features = targetFeatureSplit(data)"
   ]
  },
  {
   "cell_type": "markdown",
   "metadata": {},
   "source": [
    "## Selection of features\n",
    "\n",
    "I will now select the features which we want to use in the following sections. I decided to use SelectKBest, which calculates a score for each feature. I decided to use the default setting (f_classif), which is an classification based on the ANOVA F-value.\n",
    "I am also using feature scaling here. Feature scaling is important for algorithms which do not make an assumption about how data is distributed. The default settings of MinMaxScaler scale all features between 0 and 1, so they have an equal weight.\n",
    "\n",
    "For a better overview, I will also plot the results."
   ]
  },
  {
   "cell_type": "code",
   "execution_count": 13,
   "metadata": {
    "collapsed": false
   },
   "outputs": [
    {
     "name": "stdout",
     "output_type": "stream",
     "text": [
      "feature, score, pvalue\n",
      "['restricted_stock, 11.500566201, 0.000991061644985',\n",
      " 'from_poi_to_this_person, 8.59612588103, 0.0174979062243',\n",
      " 'to_poi_ratio, 8.55286190712, 0.00454415012645',\n",
      " 'from_poi_ratio, 8.52856585246, 0.00484098555406',\n",
      " 'long_term_incentive, 8.42818168295, 0.0206967623307',\n",
      " 'shared_receipt_with_poi, 8.31292435349, 0.0223290141923',\n",
      " 'salary, 7.63741058892, 0.00765574713959',\n",
      " 'poi_email_ratio, 7.57353369874, 0.0236729044201',\n",
      " 'other, 4.43896174311, 0.142449194443',\n",
      " 'loan_advances, 3.39700188484, 0.433881219905',\n",
      " 'expenses, 3.04657423004, 0.155080538634',\n",
      " 'deferred_income, 3.00304382587, 0.245532219667',\n",
      " 'bonus, 1.42419738793, 0.632536146766',\n",
      " 'total_payments, 0.0230894821402, 0.882559528052']\n",
      "['restricted_stock', 'from_poi_to_this_person', 'to_poi_ratio', 'from_poi_ratio']\n"
     ]
    },
    {
     "data": {
      "image/png": "[encoded data removed]",
      "text/plain": [
       "<matplotlib.figure.Figure at 0x10e0b7d50>"
      ]
     },
     "metadata": {},
     "output_type": "display_data"
    }
   ],
   "source": [
    "### Task 4: Try a varity of classifiers\n",
    "### Please name your classifier clf for easy export below.\n",
    "### Note that if you want to do PCA or other multi-stage operations,\n",
    "### you'll need to use Pipelines. For more info:in\n",
    "### http://scikit-learn.org/stable/modules/pipeline.html\n",
    "from sklearn.metrics import accuracy_score\n",
    "from sklearn.metrics import precision_score\n",
    "from sklearn.metrics import recall_score\n",
    "from sklearn.preprocessing import MinMaxScaler\n",
    "from sklearn.feature_selection import SelectKBest, f_classif\n",
    "from sklearn.cross_validation import train_test_split\n",
    "from pprint import pprint\n",
    "\n",
    "features_train, features_test, labels_train, labels_test = \\\n",
    "train_test_split(features, labels, test_size=0.3, random_state=42)\n",
    "\n",
    "from sklearn.model_selection import StratifiedShuffleSplit\n",
    "from pprint import pprint\n",
    "# The following paragraph was copied from the feedback of the first submission\n",
    "# For sklearn 0.17 or older\n",
    "# splits = StratifiedShuffleSplit(labels, n_iter = 1000, random_state=42)\n",
    "\n",
    "sss = StratifiedShuffleSplit(n_splits = 1000, random_state=42)\n",
    "\n",
    "k = 5 # Change this to the number of features to use.\n",
    "\n",
    "# We will include all the features into variable best_features, then group by their\n",
    "# occurrences.\n",
    "features_scores = {}\n",
    "\n",
    "# For sklearn 0.17 or older\n",
    "# for i_train, i_test in splits:\n",
    "\n",
    "for i_train, i_test in sss.split(features, labels):\n",
    "    features_train, features_test = [features[i] for i in i_train], [features[i] for i in i_test]\n",
    "    labels_train, labels_test = [labels[i] for i in i_train], [labels[i] for i in i_test]\n",
    "\n",
    "    # fit selector to training set\n",
    "    selector = SelectKBest(k = k)\n",
    "    selector.fit(features_train, labels_train)\n",
    "\n",
    "    # Get scores of each feature:\n",
    "    sel_features = np.array(features_list[1:])[selector.get_support()]\n",
    "    sel_list = []\n",
    "    for i in range(len(sel_features)):\n",
    "        sel_list.append([sel_features[i], selector.scores_[i],selector.pvalues_[i]])\n",
    "\n",
    "    # Fill to feature_scores dictionary\n",
    "    for feat, score, pvalue in sel_list:\n",
    "        if feat not in features_scores:\n",
    "            features_scores[feat] = {'scores': [], 'pvalues': []}\n",
    "        features_scores[feat]['scores'].append(score)\n",
    "        features_scores[feat]['pvalues'].append(pvalue)\n",
    "\n",
    "# Average scores and pvalues of each feature\n",
    "features_scores_l = [] # tuple of feature name, avg scores, avg pvalues\n",
    "for feat in features_scores:\n",
    "    features_scores_l.append((\n",
    "        feat,\n",
    "        np.mean(features_scores[feat]['scores']),\n",
    "        np.mean(features_scores[feat]['pvalues'])\n",
    "    ))\n",
    "\n",
    "# Sort by scores and display\n",
    "import operator\n",
    "sorted_feature_scores = sorted(features_scores_l, key=operator.itemgetter(1), reverse=True)\n",
    "sorted_feature_scores_str = [\"{}, {}, {}\".format(x[0], x[1], x[2]) for x in sorted_feature_scores]\n",
    "\n",
    "print \"feature, score, pvalue\"\n",
    "pprint(sorted_feature_scores_str)\n",
    "\n",
    "my_features = []\n",
    "for i in range(0,4):\n",
    "    my_features.append(sorted_feature_scores[i][0])\n",
    "print(my_features)\n",
    "\n",
    "# Barplot\n",
    "ind = np.arange(len(sorted_feature_scores))\n",
    "feature = zip(*sorted_feature_scores)[0]\n",
    "score = zip(*sorted_feature_scores)[1]\n",
    "\n",
    "plt.barh(-ind, score)\n",
    "plt.yticks(-ind, feature)\n",
    "plt.show()\n"
   ]
  },
  {
   "cell_type": "markdown",
   "metadata": {},
   "source": [
    "There are 4 features which have a score below 1 and 3 features above 20. This seems to be a high variance.\n",
    "\n",
    "After identifying the list of best features, I played around with the algorithms I will present in the next section. I got the best results using the top 6 features, so I will make them them features which I will use in this project.\n",
    "\n",
    "These features do not include the new features we had added before. They have a comparably low score and are ranked in the lower third."
   ]
  },
  {
   "cell_type": "markdown",
   "metadata": {},
   "source": [
    "# Algorithm Selection\n",
    "\n",
    "As a first step, I have selected the best 8 features and used four algorithms with their standard parameters. These are the results:\n",
    "\n",
    "Algorithm | Accuracy | Precision | Recall\n",
    "------------ | -------------\n",
    "Naive Bayes | 0.847 | 0.457 | 0.370\n",
    "Decision Tree | 0.825 | 0.236 | 0.100\n",
    "Random Forest | 0.852 | 0.457 | 0.182\n",
    "AdaBoost | 0.813 | 0.281 | 0.200\n",
    "\n",
    "All of the algorithms have a high accuracy, but the recall for most of them is rather low. Naive Bayes already fulfills the requirements of >.3 accuracy and recall.\n",
    "AdaBoost has a recall of 0.200, but I see room for improvement, so I will use it in the following section and try to optimize the result.\n",
    "\n"
   ]
  },
  {
   "cell_type": "markdown",
   "metadata": {},
   "source": [
    "# Optimization and Validation\n",
    "\n",
    "We can see in the results above, we need to improve precision and recall.\n",
    "Parameter tuning is a very important step in machine learning and is essential to maximize accuracy, precision and recall. Many Algorithms require you to set the parameters before using them. While the choice of the best parameters is sometimes obvious when you consider the characterics of the data, it's often a process of testing many settings.\n",
    "\n",
    "To optimize my results, I will use GridSearchCV. GridSearchCV is really helpful for this goal as it takes care of parameter tuning.\n",
    "\n",
    "As a first step, I will use MinMaxScaler to scale the selected features to a value between 0 and 1. The features are then fed to the AdaBoostClassifier. For these two steps, GridSearchCV will find the optimal parameters."
   ]
  },
  {
   "cell_type": "markdown",
   "metadata": {},
   "source": [
    "Validation means to check if the model has a consistent performance on unknown data. To do so the data can be split into a training set and a testing set. The training set is used to train the model and it can then be tested with the testing set. An important issue is how the data is split. In some cases it might happen that the training set is biased. In this project it could happen that no POIs are in the training set, so the validation of the testing set would not be as good as expected.\n",
    "\n",
    "Another common mistake is overfitting, which means that a model is trained to fit a too small training set. An overfitted model has a great performance on the training data, but a bad performance on new data.\n",
    "\n",
    "To avoid overfitting, I used the StratifiedShuffleSplit cross-validator, which returns randomized folds. I ended up using the default values, which are 10% for the training set and 90% for the testing set."
   ]
  },
  {
   "cell_type": "code",
   "execution_count": null,
   "metadata": {
    "collapsed": false
   },
   "outputs": [],
   "source": [
    "from sklearn.pipeline import Pipeline\n",
    "from sklearn.feature_selection import SelectPercentile, SelectKBest, f_classif, chi2\n",
    "from sklearn.model_selection import StratifiedShuffleSplit\n",
    "from sklearn.model_selection import GridSearchCV\n",
    "from sklearn.metrics import classification_report\n",
    "from sklearn.ensemble import AdaBoostClassifier\n",
    "\n",
    "pipe = Pipeline([\n",
    "        ('min_max', MinMaxScaler()),\n",
    "        ('k_best', SelectKBest()),\n",
    "        ('classify', AdaBoostClassifier())\n",
    "    ])\n",
    "    \n",
    "param_grid = ([\n",
    "        {\n",
    "            'k_best__k': [5,6,7,8,9,10,11,12,13,14,15],\n",
    "            'classify__n_estimators':[10, 15, 20],\n",
    "            'classify__algorithm': ['SAMME', 'SAMME.R'],\n",
    "            'classify__learning_rate': [1.0, 1.5, 2.0, 2.5],\n",
    "        }\n",
    "    ])\n",
    "\n",
    "sss = StratifiedShuffleSplit()\n",
    "clf = GridSearchCV(pipe, param_grid = param_grid, cv = sss, scoring='f1_weighted')\n",
    "clf.fit(features_train, labels_train)\n",
    "\n",
    "print \"(clf.best_estimator_.steps): \", (clf.best_estimator_.steps)\n",
    "print \"(clf.best_score_): \", (clf.best_score_)\n",
    "print \"(clf.best_params_): \", (clf.best_params_)\n",
    "print \"(clf.scorer_): \", (clf.scorer_)\n",
    "\n",
    "clf = clf.best_estimator_\n",
    "test_classifier(clf, my_dataset, features_list, folds = 1000)"
   ]
  },
  {
   "cell_type": "code",
   "execution_count": 50,
   "metadata": {
    "collapsed": false
   },
   "outputs": [
    {
     "name": "stdout",
     "output_type": "stream",
     "text": [
      "Pipeline(steps=[('min_max', MinMaxScaler(copy=True, feature_range=(0, 1))), ('k_best', SelectKBest(k=5, score_func=<function f_classif at 0x10e078320>)), ('classify', AdaBoostClassifier(algorithm='SAMME.R', base_estimator=None,\n",
      "          learning_rate=1.0, n_estimators=15, random_state=None))])\n",
      "\tAccuracy: 0.85080\tPrecision: 0.42672\tRecall: 0.34650\tF1: 0.38245\tF2: 0.36004\n",
      "\tTotal predictions: 15000\tTrue positives:  693\tFalse positives:  931\tFalse negatives: 1307\tTrue negatives: 12069\n",
      "\n"
     ]
    }
   ],
   "source": [
    "%run tester.py"
   ]
  },
  {
   "cell_type": "markdown",
   "metadata": {},
   "source": [
    "# Conclusions\n",
    "\n",
    "1. Accuracy: Accuracy basically represents the proportion of correct results. However, reaching a high accuracy does not necessarily mean that the model is good. The so called \"accuracy paradox\" states that a model with a higher accuracy can have lower power than a model with lower accuracy. When the number of \"True positives\" is smaller than the number of \"False positives\", the accuracy will increase if we just output to the \"negative  class\".\n",
    "2. Precision: Precision is the ratio of true positives and false positives. In this project, this means a predicted POI is a POI. With the optimized settings the rate is 43%, which is not a very convincing result.\n",
    "3. Recall: The recall is the ratio of true positives and false negatives. This represents the percentage of POI in the dataset who were successfully identified as POI. This is 0.347, so we found 35% of the POIs."
   ]
  },
  {
   "cell_type": "markdown",
   "metadata": {},
   "source": [
    "# References\n",
    "1. [Enron scandal (Wikipedia)](https://en.wikipedia.org/wiki/Enron_scandal)\n",
    "2. [scikit-learn](http://scikit-learn.org/stable/)\n",
    "3. [stackoverflow](http://www.stackoverflow.com)\n",
    "4. [DataCamp](https://www.datacamp.com/)\n",
    "5. [kaggle](http://www.kaggle.com)\n",
    "6. [Accuracy paradox](https://tryolabs.com/blog/2013/03/25/why-accuracy-alone-bad-measure-classification-tasks-and-what-we-can-do-about-it/)\n",
    "\n",
    "I hereby confirm that this submission is my work. I have cited above the origins of any parts of the submission that were taken from Websites, books, forums, blog posts, github repositories, etc."
   ]
  }
 ],
 "metadata": {
  "anaconda-cloud": {},
  "kernelspec": {
   "display_name": "Python [py27]",
   "language": "python",
   "name": "Python [py27]"
  },
  "language_info": {
   "codemirror_mode": {
    "name": "ipython",
    "version": 2
   },
   "file_extension": ".py",
   "mimetype": "text/x-python",
   "name": "python",
   "nbconvert_exporter": "python",
   "pygments_lexer": "ipython2",
   "version": "2.7.13"
  }
 },
 "nbformat": 4,
 "nbformat_minor": 0
}
