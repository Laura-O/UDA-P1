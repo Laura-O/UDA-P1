{
 "cells": [
  {
   "cell_type": "markdown",
   "metadata": {},
   "source": [
    "# Background of the dataset\n",
    "\n",
    "Enron Corporation was an American energy company, marketing electricity and natural gas and also provided risk management services to curstomers. It was a new-economy company, which was ranked as \"most innovative company\" several times in a row. Enron had 21000 employees in more than 40 countries.\n",
    "\n",
    "However, it became infamous for the \"enron scandal\" in 2001 when it was reveales that their earnings had been overstated by several hundred million dollars. They had been able to hide and manipulate offical accounts over years.\n",
    "Shortly before the collapse, many top Enron executives began to sell large amounts of stock. The prices dropped from `$85.00` to `$0.30`. More than 20000 people lost their jobs and shareholders lost ten billions of dollars.\n",
    "\n",
    "One (and probably the only) positive outcome is the release of the Enron email corpus by the Federal Energy Regulatory Commission. They decided to publish it on the internet to serve the public’s interest in the investigations.\n",
    "The Enron dataset contains about 50.000 emails written by 158 employes of the Enron corporation. It is unique as it is the only publicly available collection of real emails, which means that it shows how real people write real emails and, not as other datasets, contains only randomly generated texts.\n",
    "\n",
    "The goal of the project is to use a machine learning algorithm to predict the person of interest (POI) of the fraud."
   ]
  },
  {
   "cell_type": "code",
   "execution_count": 149,
   "metadata": {
    "collapsed": false
   },
   "outputs": [],
   "source": [
    "import sys\n",
    "import pickle\n",
    "sys.path.append(\"../tools/\")\n",
    "\n",
    "from feature_format import featureFormat, targetFeatureSplit\n",
    "from tester import dump_classifier_and_data, test_classifier\n",
    "from matplotlib import pyplot as plt\n",
    "import pandas as pd\n",
    "import numpy as np\n"
   ]
  },
  {
   "cell_type": "code",
   "execution_count": 150,
   "metadata": {
    "collapsed": false
   },
   "outputs": [],
   "source": [
    "### Task 1: Select what features you'll use.\n",
    "### features_list is a list of strings, each of which is a feature name.\n",
    "### The first feature must be \"poi\".\n",
    "features_list = ['poi','salary', 'deferral_payments', 'total_payments',\n",
    "                'loan_advances', 'bonus', 'restricted_stock_deferred',\n",
    "                'deferred_income', 'total_stock_value', 'expenses',\n",
    "                'exercised_stock_options', 'other', 'long_term_incentive',\n",
    "                'restricted_stock', 'director_fees', 'shared_receipt_with_poi',\n",
    "                'to_messages', 'from_poi_to_this_person', 'from_messages',\n",
    "                'from_this_person_to_poi']\n",
    "                \n",
    "financial_features = ['salary', 'deferral_payments', 'total_payments',\n",
    "                'loan_advances', 'bonus', 'restricted_stock_deferred',\n",
    "                'deferred_income', 'total_stock_value', 'expenses',\n",
    "                'exercised_stock_options', 'other', 'long_term_incentive',\n",
    "                'restricted_stock', 'director_fees']"
   ]
  },
  {
   "cell_type": "markdown",
   "metadata": {
    "collapsed": true
   },
   "source": [
    "### Data overview"
   ]
  },
  {
   "cell_type": "code",
   "execution_count": 151,
   "metadata": {
    "collapsed": false,
    "scrolled": true
   },
   "outputs": [
    {
     "name": "stdout",
     "output_type": "stream",
     "text": [
      "<class 'pandas.core.frame.DataFrame'>\n",
      "Index: 146 entries, ALLEN PHILLIP K to YEAP SOON\n",
      "Data columns (total 21 columns):\n",
      "salary                       95 non-null float64\n",
      "to_messages                  86 non-null float64\n",
      "deferral_payments            39 non-null float64\n",
      "total_payments               125 non-null float64\n",
      "exercised_stock_options      102 non-null float64\n",
      "bonus                        82 non-null float64\n",
      "restricted_stock             110 non-null float64\n",
      "shared_receipt_with_poi      86 non-null float64\n",
      "restricted_stock_deferred    18 non-null float64\n",
      "total_stock_value            126 non-null float64\n",
      "expenses                     95 non-null float64\n",
      "loan_advances                4 non-null float64\n",
      "from_messages                86 non-null float64\n",
      "other                        93 non-null float64\n",
      "from_this_person_to_poi      86 non-null float64\n",
      "poi                          146 non-null float64\n",
      "director_fees                17 non-null float64\n",
      "deferred_income              49 non-null float64\n",
      "long_term_incentive          66 non-null float64\n",
      "email_address                146 non-null object\n",
      "from_poi_to_this_person      86 non-null float64\n",
      "dtypes: float64(20), object(1)\n",
      "memory usage: 25.1+ KB\n"
     ]
    }
   ],
   "source": [
    "with open(\"final_project_dataset.pkl\", \"r\") as data_file:\n",
    "    data_dict = pickle.load(data_file)\n",
    "\n",
    "enron_df = pd.DataFrame.from_dict(data_dict,orient='index',dtype=float)\n",
    "enron_df.info()"
   ]
  },
  {
   "cell_type": "markdown",
   "metadata": {},
   "source": [
    "There are currently a lot of NaNs in the data. They were entered just as \"NaN\", so I am replacing them using numpy."
   ]
  },
  {
   "cell_type": "code",
   "execution_count": 168,
   "metadata": {
    "collapsed": false
   },
   "outputs": [],
   "source": [
    "enron_df = enron_df.replace('NaN',np.nan)"
   ]
  },
  {
   "cell_type": "markdown",
   "metadata": {},
   "source": [
    "### Other characteristics \n",
    "* Total number of people: 146\n",
    "* POI: 8\n",
    "* Number of features: 20"
   ]
  },
  {
   "cell_type": "markdown",
   "metadata": {},
   "source": [
    "# Removal of outliers\n",
    "\n",
    "## Plot of bonus and total payments"
   ]
  },
  {
   "cell_type": "code",
   "execution_count": 167,
   "metadata": {
    "collapsed": false,
    "scrolled": false
   },
   "outputs": [
    {
     "data": {
      "image/png": "[encoded data removed]",
      "text/plain": [
       "<matplotlib.figure.Figure at 0x1145a7710>"
      ]
     },
     "metadata": {},
     "output_type": "display_data"
    }
   ],
   "source": [
    "plt.scatter(enron_df['bonus'], enron_df['total_payments'])\n",
    "plt.show()"
   ]
  },
  {
   "cell_type": "markdown",
   "metadata": {},
   "source": [
    "There is one extreme outlier, which is easy to recognize as the \"Total\" row. It will be removed in the next step."
   ]
  },
  {
   "cell_type": "markdown",
   "metadata": {},
   "source": [
    "## Removal and replacement of data\n",
    "There are some rows and a column which were removed:\n",
    "1. LOCKHART EUGENE E has only NaN entries.\n",
    "2. THE TRAVEL AGENCY IN THE PARK and TOTAL are no real persons.\n",
    "3. The column 'email_address' does not provide any helpful information, so it was removed.\n",
    "\n",
    "\n",
    "Furthermore, all financial features with NaN values were replaced with 0."
   ]
  },
  {
   "cell_type": "code",
   "execution_count": 155,
   "metadata": {
    "collapsed": false
   },
   "outputs": [],
   "source": [
    "enron_df = enron_df.drop(\"LOCKHART EUGENE E\", 0)\n",
    "enron_df = enron_df.drop(\"THE TRAVEL AGENCY IN THE PARK\", 0)\n",
    "enron_df = enron_df.drop(\"TOTAL\", 0)\n",
    "enron_df = enron_df.drop('email_address', 1)\n",
    "\n",
    "enron_df[financial_features] = enron_df[financial_features].fillna(0)\n",
    "#enron_df = enron_df.fillna(enron_df.median().to_dict())"
   ]
  },
  {
   "cell_type": "code",
   "execution_count": 156,
   "metadata": {
    "collapsed": false,
    "scrolled": true
   },
   "outputs": [
    {
     "data": {
      "image/png": "[encoded data removed]",
      "text/plain": [
       "<matplotlib.figure.Figure at 0x1145b1d90>"
      ]
     },
     "metadata": {},
     "output_type": "display_data"
    }
   ],
   "source": [
    "plt.scatter(enron_df['bonus'], enron_df['total_payments'])\n",
    "plt.show()"
   ]
  },
  {
   "cell_type": "code",
   "execution_count": 157,
   "metadata": {
    "collapsed": false
   },
   "outputs": [
    {
     "name": "stdout",
     "output_type": "stream",
     "text": [
      "('Maxmium bonus: ', 'LAVORATO JOHN J')\n",
      "('Maximum total payments: ', 'LAY KENNETH L')\n"
     ]
    }
   ],
   "source": [
    "print(\"Maxmium bonus: \", enron_df['bonus'].idxmax())\n",
    "print(\"Maximum total payments: \", enron_df['total_payments'].idxmax())"
   ]
  },
  {
   "cell_type": "markdown",
   "metadata": {},
   "source": [
    "There are still two entries which have a very high amount of bonus or total payments. These are John Lavorato and Kenneth Lay. As these are real persons, this is probably correct and therefore might have an important impact on my results. From my research about the Enron scandal I can also remember that Kenneth Lay played an important roles as the Enron CEO."
   ]
  },
  {
   "cell_type": "code",
   "execution_count": 158,
   "metadata": {
    "collapsed": true
   },
   "outputs": [],
   "source": [
    "enron_df[financial_features] = enron_df[financial_features].fillna(0)\n",
    "enron_df = enron_df.fillna(enron_df.median().to_dict())"
   ]
  },
  {
   "cell_type": "markdown",
   "metadata": {},
   "source": [
    "## Create new features\n",
    "\n",
    "In this section, I will create a new feature. I decided to add three features:\n",
    "1. Ratio mails from POIs / total from mails\n",
    "2. Ratio mails to POIs / total to mails\n",
    "3. Ratio from + to mails to POI / total from + to mails\n",
    "\n",
    "These new features might give additional information as they represent the ratio between emails sent to and from POIs and the total number of sent/received emails.\n",
    "It will later be shown that the new features do not help to improve the overall result."
   ]
  },
  {
   "cell_type": "code",
   "execution_count": 159,
   "metadata": {
    "collapsed": false
   },
   "outputs": [
    {
     "name": "stdout",
     "output_type": "stream",
     "text": [
      "['poi', 'salary', 'deferral_payments', 'total_payments', 'loan_advances', 'bonus', 'restricted_stock_deferred', 'deferred_income', 'total_stock_value', 'expenses', 'exercised_stock_options', 'other', 'long_term_incentive', 'restricted_stock', 'director_fees', 'shared_receipt_with_poi', 'to_messages', 'from_poi_to_this_person', 'from_messages', 'from_this_person_to_poi', 'poi_email_ratio', 'to_poi_ratio', 'from_poi_ratio']\n"
     ]
    }
   ],
   "source": [
    "def from_poi_ratio(row):\n",
    "    from_poi = row['from_poi_to_this_person']\n",
    "    from_all = row['from_messages']\n",
    "    \n",
    "    n = 0\n",
    "    \n",
    "    if from_all > 0:\n",
    "        n = from_poi / from_all\n",
    "        \n",
    "    return n\n",
    "    \n",
    "def to_poi_ratio(row):\n",
    "    to_poi = row['from_this_person_to_poi']\n",
    "    to_all = row['to_messages']\n",
    "    \n",
    "    n = 0\n",
    "    \n",
    "    if to_all > 0:\n",
    "        n = to_poi / to_all\n",
    "        \n",
    "    return n\n",
    "\n",
    "\n",
    "def poi_email_ratio(row):\n",
    "    to_poi = row['from_this_person_to_poi']\n",
    "    from_poi = row['from_poi_to_this_person']\n",
    "    to_all = row['to_messages']\n",
    "    from_all = row['from_messages']\n",
    "    \n",
    "    n = 0\n",
    "    \n",
    "    if (to_poi > 0 or to_all > 0):\n",
    "        n = (to_poi + from_poi) / (to_all + from_all)\n",
    "    \n",
    "    return n\n",
    "\n",
    "\n",
    "enron_df[\"poi_email_ratio\"] = enron_df.apply(lambda row: poi_email_ratio(row), axis=1)\n",
    "enron_df[\"to_poi_ratio\"] = enron_df.apply(lambda row: to_poi_ratio(row), axis=1)\n",
    "enron_df[\"from_poi_ratio\"] = enron_df.apply(lambda row: from_poi_ratio(row), axis=1)\n",
    "\n",
    "features_list.extend([\"poi_email_ratio\", \"to_poi_ratio\", \"from_poi_ratio\"])\n",
    "print(features_list)"
   ]
  },
  {
   "cell_type": "markdown",
   "metadata": {},
   "source": [
    "#### Converting back to dictionary\n"
   ]
  },
  {
   "cell_type": "code",
   "execution_count": 160,
   "metadata": {
    "collapsed": false
   },
   "outputs": [
    {
     "data": {
      "image/png": "[encoded data removed]",
      "text/plain": [
       "<matplotlib.figure.Figure at 0x114069790>"
      ]
     },
     "metadata": {},
     "output_type": "display_data"
    }
   ],
   "source": [
    "my_dataset = enron_df.T.to_dict()\n",
    "\n",
    "### Extract features and labels from dataset for local testing\n",
    "data = featureFormat(my_dataset, features_list, sort_keys = True)\n",
    "labels, features = targetFeatureSplit(data)\n",
    "\n",
    "### Task 4: Try a varity of classifiers\n",
    "### Please name your classifier clf for easy export below.\n",
    "### Note that if you want to do PCA or other multi-stage operations,\n",
    "### you'll need to use Pipelines. For more info:\n",
    "### http://scikit-learn.org/stable/modules/pipeline.html\n",
    "from sklearn.metrics import accuracy_score\n",
    "from sklearn.metrics import precision_score\n",
    "from sklearn.metrics import recall_score\n",
    "from sklearn.preprocessing import MinMaxScaler\n",
    "from sklearn.cross_validation import train_test_split\n",
    "\n",
    "features_train, features_test, labels_train, labels_test = \\\n",
    "train_test_split(features, labels, test_size=0.3, random_state=42)\n",
    "\n",
    "## SelectKBest\n",
    "from sklearn.feature_selection import SelectKBest, f_classif\n",
    "k = 20\n",
    "selector = SelectKBest(f_classif, k=k).fit(features, labels)\n",
    "scores=selector.scores_\n",
    "unsorted_pairs = zip(features_list[1:], scores)\n",
    "sorted_pairs = list(sorted(unsorted_pairs, key=lambda x: x[1]))\n",
    "k_features, k_scores = map(list, zip(*sorted_pairs))\n",
    "ind = np.arange(len(k_scores))\n",
    "\n",
    "plt.barh(ind, k_scores)\n",
    "plt.yticks(ind, k_features)\n",
    "plt.show()"
   ]
  },
  {
   "cell_type": "markdown",
   "metadata": {},
   "source": [
    "After identifying the list of best features, I played around with the algorithms I will present in the next section. I got the best results with the 6 best features, so I will make them them features which I will use in this project.\n",
    "\n",
    "These features do not include the new features we had added before."
   ]
  },
  {
   "cell_type": "code",
   "execution_count": 161,
   "metadata": {
    "collapsed": false,
    "scrolled": true
   },
   "outputs": [
    {
     "name": "stdout",
     "output_type": "stream",
     "text": [
      "['poi', 'long_term_incentive', 'deferred_income', 'salary', 'bonus', 'total_stock_value', 'exercised_stock_options']\n"
     ]
    }
   ],
   "source": [
    "my_features = ['poi'] + k_features[16:]\n",
    "print(my_features)"
   ]
  },
  {
   "cell_type": "markdown",
   "metadata": {},
   "source": [
    "# Algorithm Selection\n",
    "\n",
    "As a first step, I have selected the best 8 features and used four algorithms with their standard parameters. These are the results:\n",
    "\n",
    "Algorithm | Accuracy | Precision | Recall\n",
    "------------ | -------------\n",
    "Naive Bayes | 0.847 | 0.457 | 0.370\n",
    "Decision Tree | 0.825 | 0.236 | 0.100\n",
    "Random Forest | 0.852 | 0.457 | 0.182\n",
    "AdaBoost | 0.813 | 0.281 | 0.200\n",
    "\n",
    "All of the algorithms have a high accuracy, but the precision for most of them is rather low. Naive Bayes already fulfills the requirements of >.3 accuracy and recall.\n",
    "For that reason, I will try to optimize the results of AdaBoost.\n",
    "\n",
    "## Optimization and Validation\n",
    "\n",
    "We can see in the results above, we need to improve the recall.\n",
    "To optimize this result, I will use GridSearchCV. GridSearchCV is really helpful for this goal as it takes care of parameter tuning.\n",
    "\n",
    "As a first step, I will use MinMaxScaler to scale the selected features to a value between 0 and 1. The features are then fed to the AdaBoostClassifier. For these two steps, GridSearchCV will find the optimal parameters.\n"
   ]
  },
  {
   "cell_type": "code",
   "execution_count": 162,
   "metadata": {
    "collapsed": false
   },
   "outputs": [
    {
     "name": "stdout",
     "output_type": "stream",
     "text": [
      "(clf.best_estimator_.steps):  [('min_max', MinMaxScaler(copy=True, feature_range=(0, 1))), ('classify', AdaBoostClassifier(algorithm='SAMME.R', base_estimator=None,\n",
      "          learning_rate=1.0, n_estimators=10, random_state=42))]\n",
      "(clf.best_score_):  0.383333333333\n",
      "(clf.best_params_):  {'classify__learning_rate': 1.0, 'classify__random_state': 42, 'classify__n_estimators': 10, 'classify__algorithm': 'SAMME.R'}\n",
      "(clf.scorer_):  make_scorer(f1_score)\n"
     ]
    }
   ],
   "source": [
    "from sklearn.pipeline import Pipeline\n",
    "from sklearn.feature_selection import SelectPercentile, SelectKBest, f_classif, chi2\n",
    "from sklearn.preprocessing import MinMaxScaler\n",
    "from sklearn.model_selection import StratifiedShuffleSplit\n",
    "from sklearn.model_selection import GridSearchCV\n",
    "from sklearn.metrics import classification_report\n",
    "\n",
    "pipe = Pipeline([\n",
    "        ('min_max', MinMaxScaler()),\n",
    "        ('classify', AdaBoostClassifier())\n",
    "    ])\n",
    "    \n",
    "param_grid = ([\n",
    "        {\n",
    "            'classify__n_estimators':[10, 30, 50],\n",
    "            'classify__algorithm': ['SAMME', 'SAMME.R'],\n",
    "            'classify__learning_rate': [1.0, 2., 5.],\n",
    "            'classify__random_state': [42]\n",
    "        }\n",
    "    ])\n",
    "\n",
    "sss = StratifiedShuffleSplit()\n",
    "clf = GridSearchCV(pipe, param_grid = param_grid, scoring='f1', cv = sss)\n",
    "clf.fit(features_train, labels_train)\n",
    "\n",
    "print \"(clf.best_estimator_.steps): \", (clf.best_estimator_.steps)\n",
    "print \"(clf.best_score_): \", (clf.best_score_)\n",
    "print \"(clf.best_params_): \", (clf.best_params_)\n",
    "print \"(clf.scorer_): \", (clf.scorer_)\n",
    "\n",
    "clf = clf.best_estimator_"
   ]
  },
  {
   "cell_type": "code",
   "execution_count": 163,
   "metadata": {
    "collapsed": false
   },
   "outputs": [
    {
     "name": "stdout",
     "output_type": "stream",
     "text": [
      "AdaBoostClassifier(algorithm='SAMME', base_estimator=None, learning_rate=2.0,\n",
      "          n_estimators=10, random_state=42)\n",
      "\tAccuracy: 0.60521\tPrecision: 0.22268\tRecall: 0.70800\tF1: 0.33880\tF2: 0.49307\n",
      "\tTotal predictions: 14000\tTrue positives: 1416\tFalse positives: 4943\tFalse negatives:  584\tTrue negatives: 7057\n",
      "\n"
     ]
    }
   ],
   "source": [
    "clf = AdaBoostClassifier(algorithm='SAMME', base_estimator=None,\n",
    "                         learning_rate=2.0, n_estimators=10, random_state=42)\n",
    "test_classifier(clf, my_dataset, my_features, folds = 1000)"
   ]
  },
  {
   "cell_type": "markdown",
   "metadata": {},
   "source": [
    "Validating the results can be done by splitting the dataset into a training set and a testing set. The training set can be used to train the model and it can then be tested with the testing set. An important issue is how the data is split. In some cases it might happen that the training set is biased. In this project it could happen that no POIs are in the training set, so the validation of the testing set would not be as good as expected.\n",
    "\n",
    "For this reason, I used the StratifiedShuffleSplit cross-validator, which returns randomized folds. I ended up using the default values, which are 10% for the training set and 90% for the testing set."
   ]
  },
  {
   "cell_type": "markdown",
   "metadata": {},
   "source": [
    "# Conclusions\n",
    "\n",
    "1. Accuracy: Accuracy basically represents the proportion of correct results. However, reaching a high accuracy does not necessarily mean that the model is good. The so called \"accuracy paradox\" states that a model with a higher accuracy can have lower power than a model with lower accuracy. When the number of \"True positives\" is smaller than the number of \"False positives\", the accuracy will increase if we just output to the \"negative  class\".\n",
    "2. Precision: Precision is the ratio of true positives and false positives. In this project, this means that a POI will be predicted as a POI. With the optimized settings the rate is 22,2%, which is not a very convincing result.\n",
    "3. Recall: The recall is the ratio of true positives and false negatives. This represents the percentage of POI in the dataset who were successfully identified as POI. This is 0.708, so we found 71% of the POIs."
   ]
  },
  {
   "cell_type": "markdown",
   "metadata": {},
   "source": [
    "# References\n",
    "1. [Enron scandal (Wikipedia)](https://en.wikipedia.org/wiki/Enron_scandal)\n",
    "2. [scikit-learn](http://scikit-learn.org/stable/)\n",
    "3. [stackoverflow](http://www.stackoverflow.com)\n",
    "4. [DataCamp](https://www.datacamp.com/)\n",
    "5. [kaggle](http://www.kaggle.com)\n",
    "6. [Accuracy paradox](https://tryolabs.com/blog/2013/03/25/why-accuracy-alone-bad-measure-classification-tasks-and-what-we-can-do-about-it/)"
   ]
  },
  {
   "cell_type": "code",
   "execution_count": null,
   "metadata": {
    "collapsed": true
   },
   "outputs": [],
   "source": []
  }
 ],
 "metadata": {
  "anaconda-cloud": {},
  "kernelspec": {
   "display_name": "Python [py27]",
   "language": "python",
   "name": "Python [py27]"
  },
  "language_info": {
   "codemirror_mode": {
    "name": "ipython",
    "version": 2
   },
   "file_extension": ".py",
   "mimetype": "text/x-python",
   "name": "python",
   "nbconvert_exporter": "python",
   "pygments_lexer": "ipython2",
   "version": "2.7.13"
  }
 },
 "nbformat": 4,
 "nbformat_minor": 0
}
